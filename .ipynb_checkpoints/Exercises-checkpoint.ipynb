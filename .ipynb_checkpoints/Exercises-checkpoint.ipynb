{
 "cells": [
  {
   "cell_type": "markdown",
   "metadata": {},
   "source": [
    "#### Exercise 1 - Class Inheritance"
   ]
  },
  {
   "cell_type": "markdown",
   "metadata": {},
   "source": [
    "Create an Employee class that sets an employee's first name, last name, job title, salary, and email. The Employee class should have a class attribute for the raise amount set to 5% (1.05). Create a method that will apply the raise to an employee's salary."
   ]
  },
  {
   "cell_type": "code",
   "execution_count": 5,
   "metadata": {},
   "outputs": [
    {
     "name": "stdout",
     "output_type": "stream",
     "text": [
      "George Washington\n",
      "Congrats George Washington, you have received a raise and your new salary is $105000\n"
     ]
    }
   ],
   "source": [
    "# Write the Employee Parent Class Here\n",
    "# paste the employee class from yesterday with raise\n",
    "# add __str__ and __repr__ \n",
    "\n",
    "\n",
    "class Employee:\n",
    "    raise_amount = 1.05 # Class Attribute (5% raise)\n",
    "    \n",
    "    def __init__(self, first, last, job_title, salary):\n",
    "        self.first_name = first.title()\n",
    "        self.last_name = last.title()\n",
    "        self.job_title = job_title\n",
    "        self.salary = salary\n",
    "        self.email = first.lower() + last[0].lower() + '@coolcompany.com'\n",
    "    \n",
    "    def __str__(self):\n",
    "        return f'{self.first_name} {self.last_name}' # everytime we print Employee, it will print this str\n",
    "    \n",
    "    def apply_raise(self):\n",
    "        self.salary = round(self.salary * Employee.raise_amount)\n",
    "        print(f\"Congrats {self}, you have received a raise and your new salary is ${self.salary}\")\n",
    "        \n",
    "        \n",
    "emp_1 = Employee('George', 'Washington', 'President', 100000)\n",
    "emp_2 = Employee('Abraham', 'Lincoln', 'President', 50000)\n",
    "\n",
    "print(emp_1)\n",
    "emp_1.apply_raise()"
   ]
  },
  {
   "cell_type": "markdown",
   "metadata": {},
   "source": [
    "Create two more classes that inherit from the Employee class. One for Sales and one for Development. Both of these classes will have the same attributes as the Employee.<br>\n",
    "- For the Sales employees, add a phone number attribute on instantiation using the super method. \n",
    "- Create a method on the Sales class that will \"Send a Follow Up Email\". It should take in a customer name and \"send\" aka print a formatted email \"Dear *customer*, Thank you for your interest in our product. Please let me know if you have any questions. My email is *email* or my phone number is *phone number*. Thanks, *full name*\"\n",
    "- Create a method on the Development class called code that will print out \"*full name* is writing code\"."
   ]
  },
  {
   "cell_type": "code",
   "execution_count": 11,
   "metadata": {},
   "outputs": [],
   "source": [
    "# Write the Sales child Class Here\n",
    "\n",
    "class Sales(Employee):\n",
    "    def __init__(self, first, last, job_title, salary, phone_number):\n",
    "        super().__init__(first, last, job_title, salary)  # what if we wanted to make the title all 'sales'\n",
    "        self.phone_number = phone_number\n",
    "        \n",
    "    def f_u_email(self, customer_name):\n",
    "        self.customer_name = customer_name\n",
    "        formatted_email = f\"\"\"\n",
    "        Dear {self.customer_name.title()},\n",
    "        Thank you for your interest in our product. Please let me know if you have any questions. \n",
    "        \n",
    "        My email is {self.email} or my phone number is {self.phone_number}. \n",
    "        \n",
    "        Thanks, {self}.\n",
    "        \"\"\"\n",
    "        print(formatted_email)\n",
    "\n"
   ]
  },
  {
   "cell_type": "code",
   "execution_count": 19,
   "metadata": {},
   "outputs": [],
   "source": [
    "# Write the Development child Class Here\n",
    "\n",
    "class Dev(Employee):\n",
    "    def __init__(self, first, last, job_title, salary):\n",
    "        super().__init__(first, last, job_title, salary) \n",
    "            \n",
    "    def code(self):\n",
    "        print(f'{self} is writing code.')\n"
   ]
  },
  {
   "cell_type": "markdown",
   "metadata": {},
   "source": [
    "- Create an instance of a Sales Employee with a salary of $50,000.\n",
    "- Send follow up emails to \"Mike O'Neil\" and \"Hannah Stern\"\n",
    "- Give the employee a raise and print the salary"
   ]
  },
  {
   "cell_type": "code",
   "execution_count": 13,
   "metadata": {},
   "outputs": [
    {
     "name": "stdout",
     "output_type": "stream",
     "text": [
      "Lexie Young\n"
     ]
    }
   ],
   "source": [
    "# Create the instance\n",
    "sales_emp1 = Sales('Lexie', 'Young', 'Sales Rep', 50000, '(555)-555-5555')\n",
    "print(sales_emp1)"
   ]
  },
  {
   "cell_type": "code",
   "execution_count": 14,
   "metadata": {},
   "outputs": [
    {
     "name": "stdout",
     "output_type": "stream",
     "text": [
      "\n",
      "        Dear Mike O'Neil,\n",
      "        Thank you for your interest in our product. Please let me know if you have any questions. \n",
      "        \n",
      "        My email is lexiey@coolcompany.com or my phone number is (555)-555-5555. \n",
      "        \n",
      "        Thanks, Lexie Young.\n",
      "        \n"
     ]
    }
   ],
   "source": [
    "# Send follow up to Mike\n",
    "\n",
    "sales_emp1.f_u_email(\"Mike O'Neil\")"
   ]
  },
  {
   "cell_type": "code",
   "execution_count": 15,
   "metadata": {},
   "outputs": [
    {
     "name": "stdout",
     "output_type": "stream",
     "text": [
      "\n",
      "        Dear Hannah Stern,\n",
      "        Thank you for your interest in our product. Please let me know if you have any questions. \n",
      "        \n",
      "        My email is lexiey@coolcompany.com or my phone number is (555)-555-5555. \n",
      "        \n",
      "        Thanks, Lexie Young.\n",
      "        \n"
     ]
    }
   ],
   "source": [
    "# Send follow up to Hannah\n",
    "sales_emp1.f_u_email('Hannah Stern')\n"
   ]
  },
  {
   "cell_type": "code",
   "execution_count": 18,
   "metadata": {},
   "outputs": [
    {
     "name": "stdout",
     "output_type": "stream",
     "text": [
      "Congrats Lexie Young, you have received a raise and your new salary is $52500\n"
     ]
    }
   ],
   "source": [
    "# Give the sales employee a raise\n",
    "sales_emp1.apply_raise()"
   ]
  },
  {
   "cell_type": "markdown",
   "metadata": {},
   "source": [
    "- Create an instance of a Development Employee with a salary of $100,000\n",
    "- Write some code with this employee\n",
    "- Give the employee a raise and print the salary"
   ]
  },
  {
   "cell_type": "code",
   "execution_count": 21,
   "metadata": {},
   "outputs": [
    {
     "name": "stdout",
     "output_type": "stream",
     "text": [
      "Lexie Young\n"
     ]
    }
   ],
   "source": [
    "# Create the instance\n",
    "\n",
    "dev_emp1 = Dev('Lexie', 'Young', 'Dev', 100000)\n",
    "print(dev_emp1)"
   ]
  },
  {
   "cell_type": "code",
   "execution_count": 22,
   "metadata": {},
   "outputs": [
    {
     "name": "stdout",
     "output_type": "stream",
     "text": [
      "Lexie Young is writing code.\n"
     ]
    }
   ],
   "source": [
    "# Write some code (call code method)\n",
    "dev_emp1.code()"
   ]
  },
  {
   "cell_type": "code",
   "execution_count": 23,
   "metadata": {},
   "outputs": [
    {
     "name": "stdout",
     "output_type": "stream",
     "text": [
      "Congrats Lexie Young, you have received a raise and your new salary is $105000\n"
     ]
    }
   ],
   "source": [
    "# Give the dev employee a raise\n",
    "dev_emp1.apply_raise()"
   ]
  },
  {
   "cell_type": "markdown",
   "metadata": {},
   "source": [
    "#### Exercise 2 - Importing Modules"
   ]
  },
  {
   "cell_type": "markdown",
   "metadata": {},
   "source": [
    "In VS Code, create a module titled `geometry` and add two functions in there. One that will calculate the area of a circle given a radius. The second will find the hypotenuse of a right angle given the two sides. Import the module or the functions from the module and use it to find the answers to the below questions"
   ]
  },
  {
   "cell_type": "markdown",
   "metadata": {},
   "source": [
    "What is the area of a circle with a radius of 7cm?"
   ]
  },
  {
   "cell_type": "code",
   "execution_count": 3,
   "metadata": {},
   "outputs": [
    {
     "data": {
      "text/plain": [
       "153.93804002589985"
      ]
     },
     "execution_count": 3,
     "metadata": {},
     "output_type": "execute_result"
    }
   ],
   "source": [
    "# ~153.94 / A = pi*r**2\n",
    "\n",
    "from geometry import area\n",
    "\n",
    "area(7)\n",
    "    \n",
    "    "
   ]
  },
  {
   "cell_type": "markdown",
   "metadata": {},
   "source": [
    "What is the hypotenuse of a right angle with sides of 3in and 4in?"
   ]
  },
  {
   "cell_type": "code",
   "execution_count": 1,
   "metadata": {},
   "outputs": [
    {
     "name": "stdout",
     "output_type": "stream",
     "text": [
      "<module 'geometry' from '/Users/alexandriayoung/Documents/CodingTemple/week3/day2/day2assignment/geometry.py'>\n"
     ]
    }
   ],
   "source": [
    "import geometry\n",
    "print(geometry)"
   ]
  },
  {
   "cell_type": "code",
   "execution_count": 2,
   "metadata": {},
   "outputs": [
    {
     "data": {
      "text/plain": [
       "5.0"
      ]
     },
     "execution_count": 2,
     "metadata": {},
     "output_type": "execute_result"
    }
   ],
   "source": [
    "geometry.hypotenuse(3, 4)"
   ]
  }
 ],
 "metadata": {
  "kernelspec": {
   "display_name": "Python 3 (ipykernel)",
   "language": "python",
   "name": "python3"
  },
  "language_info": {
   "codemirror_mode": {
    "name": "ipython",
    "version": 3
   },
   "file_extension": ".py",
   "mimetype": "text/x-python",
   "name": "python",
   "nbconvert_exporter": "python",
   "pygments_lexer": "ipython3",
   "version": "3.11.5"
  }
 },
 "nbformat": 4,
 "nbformat_minor": 4
}
