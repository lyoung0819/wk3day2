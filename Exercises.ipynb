{
 "cells": [
  {
   "cell_type": "markdown",
   "metadata": {},
   "source": [
    "#### Exercise 1 - Class Inheritance"
   ]
  },
  {
   "cell_type": "markdown",
   "metadata": {},
   "source": [
    "Create an Employee class that sets an employee's first name, last name, job title, salary, and email. The Employee class should have a class attribute for the raise amount set to 5% (1.05). Create a method that will apply the raise to an employee's salary."
   ]
  },
  {
   "cell_type": "code",
   "execution_count": 39,
   "metadata": {},
   "outputs": [],
   "source": [
    "# Write the Employee Parent Class Here\n",
    "# paste the employee class from yesterday with raise\n",
    "# add __str__ and __repr__ \n",
    "\n",
    "\n",
    "class Employee:\n",
    "    raise_amount = 1.05 # Class Attribute (5% raise)\n",
    "    \n",
    "    def __init__(self, first, last, job_title, salary):\n",
    "        self.first_name = first.title()\n",
    "        self.last_name = last.title()\n",
    "        self.job_title = job_title\n",
    "        self.salary = salary\n",
    "        self.email = first.lower() + last[0].lower() + '@coolcompany.com'\n",
    "        \n",
    "    def get_pay_stub(self): # Function inside of the class AKA method\n",
    "        amount = round(self.salary/24, 2)\n",
    "        print(f\"\"\"\n",
    "        Pay to the Order of: {self.first_name} {self.last_name}\n",
    "        Amount: ${amount}\n",
    "        \"\"\")\n",
    "        \n",
    "    def change_last_name(self, new_last_name):\n",
    "        # Modify the last_name attribute on the employee instance with the new last name\n",
    "        self.last_name = new_last_name.title()\n",
    "        # Modify the email address with updated last name\n",
    "        self.email = self.first_name.lower() + new_last_name[0].lower() + '@coolcompany.com'\n",
    "        \n",
    "    def apply_raise(self):\n",
    "        self.salary = round(self.salary * Employee.raise_amount)\n",
    "        print(f\"Congrats {self.first_name}, you have received a raise and your new salary is ${self.salary}\")\n",
    "        \n",
    "        \n",
    "emp_1 = Employee('George', 'Washington', 'President', 100000)\n",
    "emp_2 = Employee('Abraham', 'Lincoln', 'President', 50000)"
   ]
  },
  {
   "cell_type": "markdown",
   "metadata": {},
   "source": [
    "Create two more classes that inherit from the Employee class. One for Sales and one for Development. Both of these classes will have the same attributes as the Employee.<br>\n",
    "- For the Sales employees, add a phone number attribute on instantiation using the super method. \n",
    "- Create a method on the Sales class that will \"Send a Follow Up Email\". It should take in a customer name and \"send\" aka print a formatted email \"Dear *customer*, Thank you for your interest in our product. Please let me know if you have any questions. My email is *email* or my phone number is *phone number*. Thanks, *full name*\"\n",
    "- Create a method on the Development class called code that will print out \"*full name* is writing code\"."
   ]
  },
  {
   "cell_type": "code",
   "execution_count": 54,
   "metadata": {},
   "outputs": [],
   "source": [
    "# Write the Sales child Class Here\n",
    "\n",
    "class Sales(Employee):\n",
    "    def __init__(self, phone_number):\n",
    "        super().__init__(first, last, job_title, salary, 'phone_number')\n",
    "\n",
    "        \n",
    "    def f_u_email(self, c_fisrt, c_last):\n",
    "        self.c_fullname = self.c_first + self.c_last\n",
    "        print(f'Dear {self.c_fullname}, Thank you for your interest in our product. Please let me know if you have any questions. My email is {self.email} or my phone number is {self.phone_number}. Thanks, {first}{last}.')\n",
    "        \n",
    "\n"
   ]
  },
  {
   "cell_type": "code",
   "execution_count": 58,
   "metadata": {},
   "outputs": [],
   "source": [
    "# Write the Development child Class Here\n",
    "\n",
    "class Dev(Employee):\n",
    "    def __init__(self, salary):\n",
    "        super().__init__(self, first, last, jot_title, salary)\n",
    "            \n",
    "    def code(self):\n",
    "        print(f'{first}{last} is writing code.')\n"
   ]
  },
  {
   "cell_type": "markdown",
   "metadata": {},
   "source": [
    "- Create an instance of a Sales Employee with a salary of $50,000.\n",
    "- Send follow up emails to \"Mike O'Neil\" and \"Hannah Stern\"\n",
    "- Give the employee a raise and print the salary"
   ]
  },
  {
   "cell_type": "code",
   "execution_count": 57,
   "metadata": {},
   "outputs": [
    {
     "ename": "NameError",
     "evalue": "name 'first' is not defined",
     "output_type": "error",
     "traceback": [
      "\u001b[0;31m---------------------------------------------------------------------------\u001b[0m",
      "\u001b[0;31mNameError\u001b[0m                                 Traceback (most recent call last)",
      "Cell \u001b[0;32mIn[57], line 3\u001b[0m\n\u001b[1;32m      1\u001b[0m \u001b[38;5;66;03m# Create the instance\u001b[39;00m\n\u001b[0;32m----> 3\u001b[0m sales1 \u001b[38;5;241m=\u001b[39m Sales(\u001b[38;5;241m555\u001b[39m\u001b[38;5;241m-\u001b[39m\u001b[38;5;241m555\u001b[39m\u001b[38;5;241m-\u001b[39m\u001b[38;5;241m5555\u001b[39m)\n",
      "Cell \u001b[0;32mIn[54], line 5\u001b[0m, in \u001b[0;36mSales.__init__\u001b[0;34m(self, phone_number)\u001b[0m\n\u001b[1;32m      4\u001b[0m \u001b[38;5;28;01mdef\u001b[39;00m \u001b[38;5;21m__init__\u001b[39m(\u001b[38;5;28mself\u001b[39m, phone_number):\n\u001b[0;32m----> 5\u001b[0m     \u001b[38;5;28msuper\u001b[39m()\u001b[38;5;241m.\u001b[39m\u001b[38;5;21m__init__\u001b[39m(first, last, job_title, salary, \u001b[38;5;124m'\u001b[39m\u001b[38;5;124mphone_number\u001b[39m\u001b[38;5;124m'\u001b[39m)\n",
      "\u001b[0;31mNameError\u001b[0m: name 'first' is not defined"
     ]
    }
   ],
   "source": [
    "# Create the instance\n",
    "\n",
    "sales1 = Sales(555-555-5555)"
   ]
  },
  {
   "cell_type": "code",
   "execution_count": null,
   "metadata": {},
   "outputs": [],
   "source": [
    "# Send follow up to Mike\n",
    "\n",
    "sales1.f_u_email('Mike', \"O'Niel\")"
   ]
  },
  {
   "cell_type": "code",
   "execution_count": null,
   "metadata": {},
   "outputs": [],
   "source": [
    "# Send follow up to Hannah\n",
    "sales1.f_u_email('Hannah','Stern')"
   ]
  },
  {
   "cell_type": "code",
   "execution_count": null,
   "metadata": {},
   "outputs": [],
   "source": [
    "# Give the sales employee a raise\n",
    "\n",
    "sales1.raise()\n",
    "print(sales1.salary())"
   ]
  },
  {
   "cell_type": "markdown",
   "metadata": {},
   "source": [
    "- Create an instance of a Development Employee with a salary of $100,000\n",
    "- Write some code with this employee\n",
    "- Give the employee a raise and print the salary"
   ]
  },
  {
   "cell_type": "code",
   "execution_count": 61,
   "metadata": {},
   "outputs": [
    {
     "ename": "TypeError",
     "evalue": "Dev.__init__() takes 1 positional argument but 2 were given",
     "output_type": "error",
     "traceback": [
      "\u001b[0;31m---------------------------------------------------------------------------\u001b[0m",
      "\u001b[0;31mTypeError\u001b[0m                                 Traceback (most recent call last)",
      "Cell \u001b[0;32mIn[61], line 3\u001b[0m\n\u001b[1;32m      1\u001b[0m \u001b[38;5;66;03m# Create the instance\u001b[39;00m\n\u001b[0;32m----> 3\u001b[0m dev1 \u001b[38;5;241m=\u001b[39m Dev(\u001b[38;5;241m100000\u001b[39m)\n",
      "\u001b[0;31mTypeError\u001b[0m: Dev.__init__() takes 1 positional argument but 2 were given"
     ]
    }
   ],
   "source": [
    "# Create the instance\n",
    "\n",
    "dev1 = Dev(100000)"
   ]
  },
  {
   "cell_type": "code",
   "execution_count": 50,
   "metadata": {},
   "outputs": [
    {
     "ename": "NameError",
     "evalue": "name 'first' is not defined",
     "output_type": "error",
     "traceback": [
      "\u001b[0;31m---------------------------------------------------------------------------\u001b[0m",
      "\u001b[0;31mNameError\u001b[0m                                 Traceback (most recent call last)",
      "Cell \u001b[0;32mIn[50], line 3\u001b[0m\n\u001b[1;32m      1\u001b[0m \u001b[38;5;66;03m# Write some code (call code method)\u001b[39;00m\n\u001b[0;32m----> 3\u001b[0m dev1\u001b[38;5;241m.\u001b[39mcode()\n",
      "Cell \u001b[0;32mIn[41], line 6\u001b[0m, in \u001b[0;36mDev.code\u001b[0;34m(self)\u001b[0m\n\u001b[1;32m      5\u001b[0m \u001b[38;5;28;01mdef\u001b[39;00m \u001b[38;5;21mcode\u001b[39m(\u001b[38;5;28mself\u001b[39m):\n\u001b[0;32m----> 6\u001b[0m     \u001b[38;5;28mprint\u001b[39m(\u001b[38;5;124mf\u001b[39m\u001b[38;5;124m'\u001b[39m\u001b[38;5;132;01m{\u001b[39;00mfirst\u001b[38;5;132;01m}\u001b[39;00m\u001b[38;5;132;01m{\u001b[39;00mlast\u001b[38;5;132;01m}\u001b[39;00m\u001b[38;5;124m is writing code.\u001b[39m\u001b[38;5;124m'\u001b[39m)\n",
      "\u001b[0;31mNameError\u001b[0m: name 'first' is not defined"
     ]
    }
   ],
   "source": [
    "# Write some code (call code method)\n",
    "\n",
    "dev1.code()"
   ]
  },
  {
   "cell_type": "code",
   "execution_count": null,
   "metadata": {},
   "outputs": [],
   "source": [
    "# Give the dev employee a raise\n",
    "dev1.raise()\n",
    "print(dev1.salary())"
   ]
  },
  {
   "cell_type": "markdown",
   "metadata": {},
   "source": [
    "#### Exercise 2 - Importing Modules"
   ]
  },
  {
   "cell_type": "markdown",
   "metadata": {},
   "source": [
    "In VS Code, create a module titled `geometry` and add two functions in there. One that will calculate the area of a circle given a radius. The second will find the hypotenuse of a right angle given the two sides. Import the module or the functions from the module and use it to find the answers to the below questions"
   ]
  },
  {
   "cell_type": "markdown",
   "metadata": {},
   "source": [
    "What is the area of a circle with a radius of 7cm?"
   ]
  },
  {
   "cell_type": "code",
   "execution_count": 33,
   "metadata": {},
   "outputs": [
    {
     "data": {
      "text/plain": [
       "153.93804002589985"
      ]
     },
     "execution_count": 33,
     "metadata": {},
     "output_type": "execute_result"
    }
   ],
   "source": [
    "# ~153.94 / A = pi*r**2\n",
    "\n",
    "from geometry import area\n",
    "\n",
    "area(7)\n",
    "    \n",
    "    "
   ]
  },
  {
   "cell_type": "markdown",
   "metadata": {},
   "source": [
    "What is the hypotenuse of a right angle with sides of 3in and 4in?"
   ]
  },
  {
   "cell_type": "code",
   "execution_count": 53,
   "metadata": {
    "scrolled": true
   },
   "outputs": [
    {
     "ename": "ImportError",
     "evalue": "cannot import name 'hypotenuse' from 'geometry' (/Users/alexandriayoung/Documents/CodingTemple/week3/day2/day2assignment/geometry.py)",
     "output_type": "error",
     "traceback": [
      "\u001b[0;31m---------------------------------------------------------------------------\u001b[0m",
      "\u001b[0;31mImportError\u001b[0m                               Traceback (most recent call last)",
      "Cell \u001b[0;32mIn[53], line 2\u001b[0m\n\u001b[1;32m      1\u001b[0m \u001b[38;5;66;03m# 5 inches\u001b[39;00m\n\u001b[0;32m----> 2\u001b[0m \u001b[38;5;28;01mfrom\u001b[39;00m \u001b[38;5;21;01mgeometry\u001b[39;00m \u001b[38;5;28;01mimport\u001b[39;00m hypotenuse\n\u001b[1;32m      4\u001b[0m hypotenuse(\u001b[38;5;241m3\u001b[39m, \u001b[38;5;241m4\u001b[39m)\n",
      "\u001b[0;31mImportError\u001b[0m: cannot import name 'hypotenuse' from 'geometry' (/Users/alexandriayoung/Documents/CodingTemple/week3/day2/day2assignment/geometry.py)"
     ]
    }
   ],
   "source": [
    "# 5 inches\n",
    "from geometry import hypotenuse\n",
    "\n",
    "hypotenuse(3, 4)"
   ]
  }
 ],
 "metadata": {
  "kernelspec": {
   "display_name": "Python 3 (ipykernel)",
   "language": "python",
   "name": "python3"
  },
  "language_info": {
   "codemirror_mode": {
    "name": "ipython",
    "version": 3
   },
   "file_extension": ".py",
   "mimetype": "text/x-python",
   "name": "python",
   "nbconvert_exporter": "python",
   "pygments_lexer": "ipython3",
   "version": "3.11.5"
  }
 },
 "nbformat": 4,
 "nbformat_minor": 4
}
